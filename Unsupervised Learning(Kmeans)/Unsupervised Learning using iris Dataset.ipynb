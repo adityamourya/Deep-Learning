{
 "cells": [
  {
   "cell_type": "code",
   "execution_count": 4,
   "metadata": {},
   "outputs": [
    {
     "data": {
      "text/plain": [
       "[(1, 20),\n",
       " (5, 11),\n",
       " (3, 17),\n",
       " (8, 15),\n",
       " (6, 14),\n",
       " (7, 13),\n",
       " (2, 12),\n",
       " (8, 18),\n",
       " (2, 19),\n",
       " (1, 13)]"
      ]
     },
     "execution_count": 4,
     "metadata": {},
     "output_type": "execute_result"
    }
   ],
   "source": [
    "x = [1,5,3,8,6,7,2,8,2,1]\n",
    "y = [20,11,17,15,14,13,12,18,19,13]\n",
    "data = list(zip(x,y))\n",
    "data"
   ]
  },
  {
   "cell_type": "code",
   "execution_count": 21,
   "metadata": {},
   "outputs": [
    {
     "data": {
      "text/plain": [
       "<function matplotlib.pyplot.show(*args, **kw)>"
      ]
     },
     "execution_count": 21,
     "metadata": {},
     "output_type": "execute_result"
    },
    {
     "data": {
      "image/png": "[encoded data removed]",
      "text/plain": [
       "<Figure size 432x288 with 1 Axes>"
      ]
     },
     "metadata": {
      "needs_background": "light"
     },
     "output_type": "display_data"
    }
   ],
   "source": [
    "from sklearn.cluster import KMeans\n",
    "import matplotlib.pyplot as plt\n",
    "model = KMeans(n_clusters=2)\n",
    "model.fit(data)\n",
    "plt.scatter(x,y,c=model.labels_)\n",
    "plt.show"
   ]
  },
  {
   "cell_type": "code",
   "execution_count": 69,
   "metadata": {},
   "outputs": [
    {
     "data": {
      "text/plain": [
       "[(5.1, 1.4),\n",
       " (4.9, 1.4),\n",
       " (4.7, 1.3),\n",
       " (4.6, 1.5),\n",
       " (5.0, 1.4),\n",
       " (5.4, 1.7),\n",
       " (4.6, 1.4),\n",
       " (5.0, 1.5),\n",
       " (4.4, 1.4),\n",
       " (4.9, 1.5),\n",
       " (5.4, 1.5),\n",
       " (4.8, 1.6),\n",
       " (4.8, 1.4),\n",
       " (4.3, 1.1),\n",
       " (5.8, 1.2),\n",
       " (5.7, 1.5),\n",
       " (5.4, 1.3),\n",
       " (5.1, 1.4),\n",
       " (5.7, 1.7),\n",
       " (5.1, 1.5),\n",
       " (5.4, 1.7),\n",
       " (5.1, 1.5),\n",
       " (4.6, 1.0),\n",
       " (5.1, 1.7),\n",
       " (4.8, 1.9),\n",
       " (5.0, 1.6),\n",
       " (5.0, 1.6),\n",
       " (5.2, 1.5),\n",
       " (5.2, 1.4),\n",
       " (4.7, 1.6),\n",
       " (4.8, 1.6),\n",
       " (5.4, 1.5),\n",
       " (5.2, 1.5),\n",
       " (5.5, 1.4),\n",
       " (4.9, 1.5),\n",
       " (5.0, 1.2),\n",
       " (5.5, 1.3),\n",
       " (4.9, 1.4),\n",
       " (4.4, 1.3),\n",
       " (5.1, 1.5),\n",
       " (5.0, 1.3),\n",
       " (4.5, 1.3),\n",
       " (4.4, 1.3),\n",
       " (5.0, 1.6),\n",
       " (5.1, 1.9),\n",
       " (4.8, 1.4),\n",
       " (5.1, 1.6),\n",
       " (4.6, 1.4),\n",
       " (5.3, 1.5),\n",
       " (5.0, 1.4),\n",
       " (7.0, 4.7),\n",
       " (6.4, 4.5),\n",
       " (6.9, 4.9),\n",
       " (5.5, 4.0),\n",
       " (6.5, 4.6),\n",
       " (5.7, 4.5),\n",
       " (6.3, 4.7),\n",
       " (4.9, 3.3),\n",
       " (6.6, 4.6),\n",
       " (5.2, 3.9),\n",
       " (5.0, 3.5),\n",
       " (5.9, 4.2),\n",
       " (6.0, 4.0),\n",
       " (6.1, 4.7),\n",
       " (5.6, 3.6),\n",
       " (6.7, 4.4),\n",
       " (5.6, 4.5),\n",
       " (5.8, 4.1),\n",
       " (6.2, 4.5),\n",
       " (5.6, 3.9),\n",
       " (5.9, 4.8),\n",
       " (6.1, 4.0),\n",
       " (6.3, 4.9),\n",
       " (6.1, 4.7),\n",
       " (6.4, 4.3),\n",
       " (6.6, 4.4),\n",
       " (6.8, 4.8),\n",
       " (6.7, 5.0),\n",
       " (6.0, 4.5),\n",
       " (5.7, 3.5),\n",
       " (5.5, 3.8),\n",
       " (5.5, 3.7),\n",
       " (5.8, 3.9),\n",
       " (6.0, 5.1),\n",
       " (5.4, 4.5),\n",
       " (6.0, 4.5),\n",
       " (6.7, 4.7),\n",
       " (6.3, 4.4),\n",
       " (5.6, 4.1),\n",
       " (5.5, 4.0),\n",
       " (5.5, 4.4),\n",
       " (6.1, 4.6),\n",
       " (5.8, 4.0),\n",
       " (5.0, 3.3),\n",
       " (5.6, 4.2),\n",
       " (5.7, 4.2),\n",
       " (5.7, 4.2),\n",
       " (6.2, 4.3),\n",
       " (5.1, 3.0),\n",
       " (5.7, 4.1),\n",
       " (6.3, 6.0),\n",
       " (5.8, 5.1),\n",
       " (7.1, 5.9),\n",
       " (6.3, 5.6),\n",
       " (6.5, 5.8),\n",
       " (7.6, 6.6),\n",
       " (4.9, 4.5),\n",
       " (7.3, 6.3),\n",
       " (6.7, 5.8),\n",
       " (7.2, 6.1),\n",
       " (6.5, 5.1),\n",
       " (6.4, 5.3),\n",
       " (6.8, 5.5),\n",
       " (5.7, 5.0),\n",
       " (5.8, 5.1),\n",
       " (6.4, 5.3),\n",
       " (6.5, 5.5),\n",
       " (7.7, 6.7),\n",
       " (7.7, 6.9),\n",
       " (6.0, 5.0),\n",
       " (6.9, 5.7),\n",
       " (5.6, 4.9),\n",
       " (7.7, 6.7),\n",
       " (6.3, 4.9),\n",
       " (6.7, 5.7),\n",
       " (7.2, 6.0),\n",
       " (6.2, 4.8),\n",
       " (6.1, 4.9),\n",
       " (6.4, 5.6),\n",
       " (7.2, 5.8),\n",
       " (7.4, 6.1),\n",
       " (7.9, 6.4),\n",
       " (6.4, 5.6),\n",
       " (6.3, 5.1),\n",
       " (6.1, 5.6),\n",
       " (7.7, 6.1),\n",
       " (6.3, 5.6),\n",
       " (6.4, 5.5),\n",
       " (6.0, 4.8),\n",
       " (6.9, 5.4),\n",
       " (6.7, 5.6),\n",
       " (6.9, 5.1),\n",
       " (5.8, 5.1),\n",
       " (6.8, 5.9),\n",
       " (6.7, 5.7),\n",
       " (6.7, 5.2),\n",
       " (6.3, 5.0),\n",
       " (6.5, 5.2),\n",
       " (6.2, 5.4),\n",
       " (5.9, 5.1)]"
      ]
     },
     "execution_count": 69,
     "metadata": {},
     "output_type": "execute_result"
    }
   ],
   "source": [
    "import pandas as pd\n",
    "dataa = pd.read_csv(\"D:/iris.csv\")\n",
    "dataa\n",
    "x=dataa['sepal.length']\n",
    "y=dataa['petal.length']\n",
    "daata=list(zip(x.values,y.values))\n",
    "daata"
   ]
  },
  {
   "cell_type": "code",
   "execution_count": 74,
   "metadata": {},
   "outputs": [
    {
     "data": {
      "text/plain": [
       "<function matplotlib.pyplot.show(*args, **kw)>"
      ]
     },
     "execution_count": 74,
     "metadata": {},
     "output_type": "execute_result"
    },
    {
     "data": {
      "image/png": "[encoded data removed]",
      "text/plain": [
       "<Figure size 432x288 with 1 Axes>"
      ]
     },
     "metadata": {
      "needs_background": "light"
     },
     "output_type": "display_data"
    }
   ],
   "source": [
    "from sklearn.cluster import AgglomerativeClustering\n",
    "import matplotlib.pyplot as plt\n",
    "model = AgglomerativeClustering(n_clusters=3)\n",
    "model.fit(daata)\n",
    "plt.scatter(x.values,y.values,c=model.labels_)\n",
    "plt.show"
   ]
  }
 ],
 "metadata": {
  "kernelspec": {
   "display_name": "Python 3",
   "language": "python",
   "name": "python3"
  },
  "language_info": {
   "codemirror_mode": {
    "name": "ipython",
    "version": 3
   },
   "file_extension": ".py",
   "mimetype": "text/x-python",
   "name": "python",
   "nbconvert_exporter": "python",
   "pygments_lexer": "ipython3",
   "version": "3.7.3"
  }
 },
 "nbformat": 4,
 "nbformat_minor": 2
}
